{
 "cells": [
  {
   "cell_type": "code",
   "execution_count": 2,
   "metadata": {},
   "outputs": [],
   "source": [
    "import duckdb\n",
    "import pandas as pd"
   ]
  },
  {
   "cell_type": "code",
   "execution_count": 9,
   "metadata": {},
   "outputs": [
    {
     "name": "stdout",
     "output_type": "stream",
     "text": [
      "/var/home/fcabello/git/BloomAlertHomework/01data\n",
      "/var/home/fcabello/git/BloomAlertHomework/01data/interim/mydb.db\n"
     ]
    }
   ],
   "source": [
    "import os\n",
    "# Get the current working directory\n",
    "cwd = os.getcwd()\n",
    "print(cwd)\n",
    "# Construct the desired file path\n",
    "file_path = os.path.join(cwd,'interim', 'mydb.db')\n",
    "print(file_path)"
   ]
  },
  {
   "cell_type": "code",
   "execution_count": 12,
   "metadata": {},
   "outputs": [],
   "source": [
    "db = duckdb.connect()\n",
    "\n",
    "companies_df = pd.read_csv('../01data/raw/organization_and_zones_dataset.csv')\n",
    "db.execute(\"CREATE TABLE companies AS SELECT * FROM companies_df\")\n",
    "\n",
    "timeseries_dataset_df = pd.read_csv('../01data/raw/timeseries_dataset.csv')\n",
    "# Convert the 'timestamp' and 'ingestion_time' columns to datetime format\n",
    "timeseries_dataset_df['timestamp'] = pd.to_datetime(timeseries_dataset_df['timestamp'])\n",
    "timeseries_dataset_df['ingestion_time'] = pd.to_datetime(timeseries_dataset_df['ingestion_time'])\n",
    "\n",
    "# Create the DuckDB table\n",
    "db.execute(\"\"\"\n",
    "    CREATE TABLE timeseries_dataset AS\n",
    "    SELECT\n",
    "        timestamp,\n",
    "        variable,\n",
    "        organization,\n",
    "        value,\n",
    "        ingestion_time\n",
    "    FROM timeseries_dataset_df\n",
    "\"\"\")\n",
    "\n",
    "\n",
    "db.execute(f\"EXPORT DATABASE '{file_path}'\")\n",
    "\n",
    "db.close()"
   ]
  }
 ],
 "metadata": {
  "kernelspec": {
   "display_name": "venv",
   "language": "python",
   "name": "python3"
  },
  "language_info": {
   "codemirror_mode": {
    "name": "ipython",
    "version": 3
   },
   "file_extension": ".py",
   "mimetype": "text/x-python",
   "name": "python",
   "nbconvert_exporter": "python",
   "pygments_lexer": "ipython3",
   "version": "3.12.2"
  }
 },
 "nbformat": 4,
 "nbformat_minor": 2
}
